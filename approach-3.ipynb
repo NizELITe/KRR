{
 "cells": [
  {
   "cell_type": "code",
   "execution_count": 1,
   "metadata": {},
   "outputs": [],
   "source": [
    "import pandas as pd"
   ]
  },
  {
   "cell_type": "code",
   "execution_count": 2,
   "metadata": {},
   "outputs": [],
   "source": [
    "core_courses = {\n",
    "    \"Programming Fundamentals\": \"3-1\",\n",
    "    \"Object Oriented Programming\": \"3-1\",\n",
    "    \"Data Structures & Algorithms\": \"3-1\",\n",
    "    \"Discrete Structures\": \"3-0\",\n",
    "    \"Operating Systems\": \"3-1\",\n",
    "    \"Database Systems\": \"3-1\",\n",
    "    \"Software Engineering\": \"3-0\",\n",
    "    \"Computer Networks\": \"3-1\",\n",
    "    \"Information Security\": \"3-0\",\n",
    "    \"Final Year Project\": \"0-6\"\n",
    "}\n",
    "\n",
    "general_education_courses = {\n",
    "    \"English Composition & Comprehension\": \"2-1\",\n",
    "    \"Technical & Business Writing\": \"3-0\",\n",
    "    \"Communication & Presentation Skills\": \"3-0\",\n",
    "    \"Professional Practices\": \"3-0\",\n",
    "    \"Introduction to Info. & Comm. Technologies\": \"0-3\",\n",
    "    \"Pakistan Studies\": \"2-0\",\n",
    "    \"Islamic Studies/ Ethics\": \"2-0\"\n",
    "}\n",
    "university_elective_courses = {\n",
    "    \"Foreign Language\": \"2-0\",\n",
    "    \"Social Service\": \"1-0\",\n",
    "    \"Management Related\": \"3-0\",\n",
    "    \"Social Science Related\": \"3-0\",\n",
    "    \"Economy Related\": \"3-0\"\n",
    "}\n",
    "math_science_foundation_courses = {\n",
    "    \"Calculus & Analytical Geometry\": \"3-0\",\n",
    "    \"Probability & Statistics\": \"3-0\",\n",
    "    \"Linear Algebra\": \"3-0\",\n",
    "    \"Applied Physics\": \"3-0\"\n",
    "}\n",
    "domain_courses = {\n",
    "    \"Compiler Construction\": \"3-0\",\n",
    "    \"Comp. Organization & Assembly Language\": \"3-1\",\n",
    "    \"Digital Logic Design\": \"3-1\",\n",
    "    \"Design & Analysis of Algorithms\": \"3-0\",\n",
    "    \"Parallel & Distributed Computing\": \"3-0\",\n",
    "    \"Artificial Intelligence\": \"3-1\",\n",
    "    \"Theory of Automata\": \"3-0\"\n",
    "}\n",
    "support_courses = {\n",
    "    \"Differential Equations\": \"3-0\",\n",
    "    \"Multi-variate Calculus\": \"3-0\",\n",
    "    \"Graph Theory\": \"3-0\",\n",
    "    \"Theory of Programming Languages\": \"3-0\",\n",
    "    \"Numerical Computing\": \"3-0\"\n",
    "}\n",
    "cs_elective_courses = {\n",
    "    \"CS Elective – 1\": \"3-0\",\n",
    "    \"CS Elective – 2\": \"3-0\",\n",
    "    \"CS Elective – 3\": \"3-0\",\n",
    "    \"CS Elective – 4\": \"3-0\",\n",
    "    \"CS Elective – 5\": \"3-0\"\n",
    "}"
   ]
  },
  {
   "cell_type": "code",
   "execution_count": 3,
   "metadata": {},
   "outputs": [],
   "source": [
    "def main_function(student_detail):\n",
    "    student_detail['courseName'] = student_detail['courseName'].str.replace(' Lab', '')\n",
    "    df_grouped = student_detail.groupby('courseName')['points'].sum().reset_index()\n",
    "    studied_courses = df_grouped.set_index('courseName')['points'].to_dict()\n",
    "    all_courses = [core_courses, general_education_courses, university_elective_courses, math_science_foundation_courses, domain_courses, cs_elective_courses, support_courses]\n",
    "    \n",
    "    total_credit_hours = 0\n",
    "    for course_list in all_courses:\n",
    "        missing_or_failed_courses = []\n",
    "        for course, hours in course_list.items():\n",
    "            theory_hours, lab_hours = map(int, hours.split('-')) if '-' in hours else (int(hours), 0)\n",
    "            total_hours = theory_hours + lab_hours\n",
    "            if course not in studied_courses:\n",
    "                missing_or_failed_courses.append(course)\n",
    "            elif studied_courses[course] < 1:\n",
    "                missing_or_failed_courses.append(course)\n",
    "            elif studied_courses[course] >= 1 and studied_courses[course] < total_hours:\n",
    "                missing_or_failed_courses.append(course)\n",
    "            else:\n",
    "                total_credit_hours += studied_courses[course]\n",
    "        if course_list == support_courses:\n",
    "            if len(course_list) - len(missing_or_failed_courses) < 3:\n",
    "                return f\"The degree cannot be completed as the following support courses have not been studied, not passed, or failed: {', '.join(missing_or_failed_courses)}. Total credit hours covered: {total_credit_hours}\"\n",
    "        elif missing_or_failed_courses:\n",
    "            return f\"The degree cannot be completed as the following courses have not been studied, not passed, or failed: {', '.join(missing_or_failed_courses)}. Total credit hours covered: {total_credit_hours}\"\n",
    "    return f\"All required courses have been studied and passed. Total credit hours covered: {total_credit_hours}\""
   ]
  },
  {
   "cell_type": "code",
   "execution_count": null,
   "metadata": {},
   "outputs": [],
   "source": [
    "df=pd.read_csv('Test Std-0101.csv')\n",
    "main_function(df)"
   ]
  }
 ],
 "metadata": {
  "kernelspec": {
   "display_name": "Python 3",
   "language": "python",
   "name": "python3"
  },
  "language_info": {
   "codemirror_mode": {
    "name": "ipython",
    "version": 3
   },
   "file_extension": ".py",
   "mimetype": "text/x-python",
   "name": "python",
   "nbconvert_exporter": "python",
   "pygments_lexer": "ipython3",
   "version": "3.8.18"
  }
 },
 "nbformat": 4,
 "nbformat_minor": 2
}
